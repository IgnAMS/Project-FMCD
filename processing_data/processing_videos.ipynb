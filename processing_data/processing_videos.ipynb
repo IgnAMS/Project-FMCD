{
 "cells": [
  {
   "cell_type": "code",
   "execution_count": 1,
   "metadata": {},
   "outputs": [],
   "source": [
    "import cv2\n",
    "import os\n",
    "import dlib"
   ]
  },
  {
   "cell_type": "code",
   "execution_count": 10,
   "metadata": {},
   "outputs": [],
   "source": [
    "videos = [\"I_need_a_hero\", \"Shrek_2_are_we_there\", \"Great_soup\"]\n",
    "\n",
    "def get_frames(video_name):\n",
    "    # Getting the video\n",
    "    cam = cv2.VideoCapture(f\"videos/{video_name}.mp4\")\n",
    "    \n",
    "    # Creating folder for the images\n",
    "    output_folder = f\"data/{video_name}\"\n",
    "    os.makedirs(output_folder, exist_ok=True)\n",
    "    \n",
    "    # getting frames\n",
    "    curr_frame = 0\n",
    "    FRAME_INTERVAL = 15\n",
    "    while True:\n",
    "        ret, frame = cam.read()\n",
    "        if not ret:\n",
    "            print(\"curr frame\", curr_frame)\n",
    "            break\n",
    "        if curr_frame % FRAME_INTERVAL == 0:\n",
    "            frame_filename = f\"{output_folder}/frame_{curr_frame // FRAME_INTERVAL:04d}.jpg\"\n",
    "            cv2.imwrite(frame_filename, frame)\n",
    "        curr_frame += 1\n",
    "    cam.release()\n",
    "    cv2.destroyAllWindows()"
   ]
  },
  {
   "cell_type": "code",
   "execution_count": 11,
   "metadata": {},
   "outputs": [
    {
     "name": "stdout",
     "output_type": "stream",
     "text": [
      "curr frame 6264\n",
      "curr frame 4703\n",
      "curr frame 5310\n"
     ]
    }
   ],
   "source": [
    "for video in videos:\n",
    "    get_frames(video)"
   ]
  },
  {
   "cell_type": "code",
   "execution_count": 16,
   "metadata": {},
   "outputs": [],
   "source": [
    "detector = dlib.get_frontal_face_detector()\n",
    "new_path = './unknown_faces/'\n",
    "\n",
    "# https://github.com/AzuTechnology/Tutorials/blob/master/extract_faces_and_save_images.py\n",
    "def draw_face_rectangle(image, x1, y1, x2, y2, color=(220, 255, 220), thickness=1):\n",
    "    cv2.rectangle(image, (x1, y1), (x2, y2), color, thickness)\n",
    "\n",
    "def save_face(img, name, bbox, width=180,height=227):\n",
    "    x, y, w, h = bbox\n",
    "    imgCrop = img[y:h, x: w]\n",
    "    imgCrop = cv2.resize(imgCrop, (width, height))\n",
    "    cv2.imwrite(name+\".jpg\", imgCrop)\n",
    "\n",
    "def detect_and_save_faces(video_name):\n",
    "    input_directory = f\"data/{video_name}\"\n",
    "    \n",
    "    # Creating folder for the images\n",
    "    output_folder = f\"unknown_faces/{video_name}\"\n",
    "    os.makedirs(output_folder, exist_ok=True)\n",
    "    \n",
    "    contador = 0 \n",
    "    for filename in os.listdir(input_directory):\n",
    "        file = os.path.join(input_directory, filename)\n",
    "        \n",
    "        frame = cv2.imread(file)\n",
    "        gray = cv2.cvtColor(frame, cv2.COLOR_BGR2GRAY)\n",
    "        faces = detector(gray)\n",
    "        fit = 20\n",
    "        # detect the face\n",
    "        for face in faces:\n",
    "            x1, y1 = face.left(), face.top()\n",
    "            x2, y2 = face.right(), face.bottom()\n",
    "            cv2.rectangle(frame,(x1,y1), (x2,y2), (220,255,220), 1)\n",
    "            draw_face_rectangle(frame, x1, y1, x2, y2, color=(0, 250, 0), thickness=1)\n",
    "            # save(gray,new_path+str(counter),(x1-fit,y1-fit,x2+fit,y2+fit))\n",
    "            save_face(frame, f\"{output_folder}/{contador}:04d\", (x1, y1, x2, y2))\n",
    "            contador += 1\n",
    "            \n",
    "        frame = cv2.resize(frame, (800, 800))\n",
    "    print(contador)"
   ]
  },
  {
   "cell_type": "code",
   "execution_count": 17,
   "metadata": {},
   "outputs": [],
   "source": [
    "for video in videos:\n",
    "    detect_and_save_faces(video)"
   ]
  },
  {
   "cell_type": "code",
   "execution_count": null,
   "metadata": {},
   "outputs": [],
   "source": [
    "characters = [\n",
    "    \"fiona_humana\", \n",
    "    \"hada_madrina\", \n",
    "    \"principe_encantador\",\n",
    "    \"shrek_humano\",\n",
    "    \"shrek_ogro\",\n",
    "    \"fiona_ogro\",\n",
    "    \"reina_lillian\",\n",
    "    \"rey_harold\",\n",
    "    \"jengy\"\n",
    "]"
   ]
  }
 ],
 "metadata": {
  "kernelspec": {
   "display_name": "Python 3",
   "language": "python",
   "name": "python3"
  },
  "language_info": {
   "codemirror_mode": {
    "name": "ipython",
    "version": 3
   },
   "file_extension": ".py",
   "mimetype": "text/x-python",
   "name": "python",
   "nbconvert_exporter": "python",
   "pygments_lexer": "ipython3",
   "version": "3.8.8"
  }
 },
 "nbformat": 4,
 "nbformat_minor": 2
}
